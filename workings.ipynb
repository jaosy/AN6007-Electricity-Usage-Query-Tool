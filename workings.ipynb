{
 "cells": [
  {
   "cell_type": "code",
   "execution_count": 2,
   "metadata": {},
   "outputs": [],
   "source": [
    "import pandas as pd\n",
    "from models import ElectricityRecord"
   ]
  },
  {
   "cell_type": "code",
   "execution_count": 3,
   "metadata": {},
   "outputs": [],
   "source": [
    "# text file paths\n",
    "area_file_path = 'Area.txt'\n",
    "date_dim_file_path = 'DateDim.txt'\n",
    "dwelling_file_path = 'Dwelling.txt'\n",
    "electricity_file_path = 'Electricity.txt'"
   ]
  },
  {
   "cell_type": "markdown",
   "metadata": {},
   "source": [
    "# Approach 1: Pandas"
   ]
  },
  {
   "cell_type": "code",
   "execution_count": 4,
   "metadata": {},
   "outputs": [
    {
     "data": {
      "text/html": [
       "<div>\n",
       "<style scoped>\n",
       "    .dataframe tbody tr th:only-of-type {\n",
       "        vertical-align: middle;\n",
       "    }\n",
       "\n",
       "    .dataframe tbody tr th {\n",
       "        vertical-align: top;\n",
       "    }\n",
       "\n",
       "    .dataframe thead th {\n",
       "        text-align: right;\n",
       "    }\n",
       "</style>\n",
       "<table border=\"1\" class=\"dataframe\">\n",
       "  <thead>\n",
       "    <tr style=\"text-align: right;\">\n",
       "      <th></th>\n",
       "      <th>DateID</th>\n",
       "      <th>AreaID</th>\n",
       "      <th>dwelling_type_id</th>\n",
       "      <th>kwh_per_acc</th>\n",
       "    </tr>\n",
       "  </thead>\n",
       "  <tbody>\n",
       "    <tr>\n",
       "      <th>0</th>\n",
       "      <td>54950</td>\n",
       "      <td>1001</td>\n",
       "      <td>1</td>\n",
       "      <td>86.7</td>\n",
       "    </tr>\n",
       "    <tr>\n",
       "      <th>1</th>\n",
       "      <td>54950</td>\n",
       "      <td>1002</td>\n",
       "      <td>1</td>\n",
       "      <td>107.5</td>\n",
       "    </tr>\n",
       "    <tr>\n",
       "      <th>2</th>\n",
       "      <td>54950</td>\n",
       "      <td>1003</td>\n",
       "      <td>1</td>\n",
       "      <td>113.9</td>\n",
       "    </tr>\n",
       "    <tr>\n",
       "      <th>3</th>\n",
       "      <td>54950</td>\n",
       "      <td>1004</td>\n",
       "      <td>1</td>\n",
       "      <td>118.1</td>\n",
       "    </tr>\n",
       "    <tr>\n",
       "      <th>4</th>\n",
       "      <td>54950</td>\n",
       "      <td>1005</td>\n",
       "      <td>1</td>\n",
       "      <td>123.2</td>\n",
       "    </tr>\n",
       "  </tbody>\n",
       "</table>\n",
       "</div>"
      ],
      "text/plain": [
       "   DateID  AreaID  dwelling_type_id  kwh_per_acc\n",
       "0   54950    1001                 1         86.7\n",
       "1   54950    1002                 1        107.5\n",
       "2   54950    1003                 1        113.9\n",
       "3   54950    1004                 1        118.1\n",
       "4   54950    1005                 1        123.2"
      ]
     },
     "execution_count": 4,
     "metadata": {},
     "output_type": "execute_result"
    }
   ],
   "source": [
    "area_df = pd.read_csv(area_file_path, sep=';')\n",
    "date_dim_df = pd.read_csv(date_dim_file_path, sep=';')\n",
    "dwelling_df = pd.read_csv(dwelling_file_path, sep=',')\n",
    "electricity_df = pd.read_csv(electricity_file_path, sep=';')\n",
    "\n",
    "## exploration\n",
    "area_df.head()\n",
    "# date_dim_df.head()\n",
    "dwelling_df.head()\n",
    "electricity_df.head()"
   ]
  },
  {
   "cell_type": "code",
   "execution_count": 5,
   "metadata": {},
   "outputs": [
    {
     "data": {
      "text/html": [
       "<div>\n",
       "<style scoped>\n",
       "    .dataframe tbody tr th:only-of-type {\n",
       "        vertical-align: middle;\n",
       "    }\n",
       "\n",
       "    .dataframe tbody tr th {\n",
       "        vertical-align: top;\n",
       "    }\n",
       "\n",
       "    .dataframe thead th {\n",
       "        text-align: right;\n",
       "    }\n",
       "</style>\n",
       "<table border=\"1\" class=\"dataframe\">\n",
       "  <thead>\n",
       "    <tr style=\"text-align: right;\">\n",
       "      <th></th>\n",
       "      <th>DateID</th>\n",
       "      <th>AreaID</th>\n",
       "      <th>dwelling_type_id</th>\n",
       "      <th>kwh_per_acc</th>\n",
       "      <th>Area</th>\n",
       "      <th>Region</th>\n",
       "      <th>year</th>\n",
       "      <th>month</th>\n",
       "      <th>quarter</th>\n",
       "      <th>TypeID</th>\n",
       "      <th>dwelling_type</th>\n",
       "    </tr>\n",
       "  </thead>\n",
       "  <tbody>\n",
       "    <tr>\n",
       "      <th>0</th>\n",
       "      <td>54950</td>\n",
       "      <td>1001</td>\n",
       "      <td>1</td>\n",
       "      <td>86.7</td>\n",
       "      <td>Bishan</td>\n",
       "      <td>Central Region</td>\n",
       "      <td>2010</td>\n",
       "      <td>1</td>\n",
       "      <td>1</td>\n",
       "      <td>1</td>\n",
       "      <td>1-room / 2-room</td>\n",
       "    </tr>\n",
       "    <tr>\n",
       "      <th>1</th>\n",
       "      <td>54950</td>\n",
       "      <td>1002</td>\n",
       "      <td>1</td>\n",
       "      <td>107.5</td>\n",
       "      <td>Sembawang</td>\n",
       "      <td>North Region</td>\n",
       "      <td>2010</td>\n",
       "      <td>1</td>\n",
       "      <td>1</td>\n",
       "      <td>1</td>\n",
       "      <td>1-room / 2-room</td>\n",
       "    </tr>\n",
       "    <tr>\n",
       "      <th>2</th>\n",
       "      <td>54950</td>\n",
       "      <td>1003</td>\n",
       "      <td>1</td>\n",
       "      <td>113.9</td>\n",
       "      <td>Yishun</td>\n",
       "      <td>North Region</td>\n",
       "      <td>2010</td>\n",
       "      <td>1</td>\n",
       "      <td>1</td>\n",
       "      <td>1</td>\n",
       "      <td>1-room / 2-room</td>\n",
       "    </tr>\n",
       "    <tr>\n",
       "      <th>3</th>\n",
       "      <td>54950</td>\n",
       "      <td>1004</td>\n",
       "      <td>1</td>\n",
       "      <td>118.1</td>\n",
       "      <td>Outram</td>\n",
       "      <td>Central Region</td>\n",
       "      <td>2010</td>\n",
       "      <td>1</td>\n",
       "      <td>1</td>\n",
       "      <td>1</td>\n",
       "      <td>1-room / 2-room</td>\n",
       "    </tr>\n",
       "    <tr>\n",
       "      <th>4</th>\n",
       "      <td>54950</td>\n",
       "      <td>1005</td>\n",
       "      <td>1</td>\n",
       "      <td>123.2</td>\n",
       "      <td>Kallang</td>\n",
       "      <td>Central Region</td>\n",
       "      <td>2010</td>\n",
       "      <td>1</td>\n",
       "      <td>1</td>\n",
       "      <td>1</td>\n",
       "      <td>1-room / 2-room</td>\n",
       "    </tr>\n",
       "  </tbody>\n",
       "</table>\n",
       "</div>"
      ],
      "text/plain": [
       "   DateID  AreaID  dwelling_type_id  kwh_per_acc       Area          Region  \\\n",
       "0   54950    1001                 1         86.7     Bishan  Central Region   \n",
       "1   54950    1002                 1        107.5  Sembawang    North Region   \n",
       "2   54950    1003                 1        113.9     Yishun    North Region   \n",
       "3   54950    1004                 1        118.1     Outram  Central Region   \n",
       "4   54950    1005                 1        123.2    Kallang  Central Region   \n",
       "\n",
       "   year  month  quarter  TypeID    dwelling_type  \n",
       "0  2010      1        1       1  1-room / 2-room  \n",
       "1  2010      1        1       1  1-room / 2-room  \n",
       "2  2010      1        1       1  1-room / 2-room  \n",
       "3  2010      1        1       1  1-room / 2-room  \n",
       "4  2010      1        1       1  1-room / 2-room  "
      ]
     },
     "execution_count": 5,
     "metadata": {},
     "output_type": "execute_result"
    }
   ],
   "source": [
    "# merging DataFrames using Pandas library functions\n",
    "merged_df = pd.merge(electricity_df, area_df, on='AreaID', how='inner')\n",
    "merged_df = pd.merge(merged_df, date_dim_df, on='DateID', how='inner')\n",
    "merged_df = pd.merge(merged_df, dwelling_df, left_on='dwelling_type_id', right_on='TypeID', how='inner')\n",
    "\n",
    "merged_df.head()"
   ]
  },
  {
   "cell_type": "code",
   "execution_count": 6,
   "metadata": {},
   "outputs": [
    {
     "name": "stdout",
     "output_type": "stream",
     "text": [
      "<class 'pandas.core.frame.DataFrame'>\n",
      "Index: 26925 entries, 14251 to 22087\n",
      "Data columns (total 6 columns):\n",
      " #   Column           Non-Null Count  Dtype  \n",
      "---  ------           --------------  -----  \n",
      " 0   Region           26925 non-null  object \n",
      " 1   Area             26925 non-null  object \n",
      " 2   year             26925 non-null  int64  \n",
      " 3   month            26925 non-null  int64  \n",
      " 4   dwelling_type    26925 non-null  object \n",
      " 5   avg_kwh_per_acc  26925 non-null  float64\n",
      "dtypes: float64(1), int64(2), object(3)\n",
      "memory usage: 1.4+ MB\n"
     ]
    }
   ],
   "source": [
    "# calculate average kwh_per_acc per dwelling type in each region, year and month\n",
    "denormalized_df = merged_df.groupby(['Region', 'Area', 'year', 'month', 'dwelling_type'])['kwh_per_acc'].mean().reset_index()\n",
    "denormalized_df = denormalized_df.rename(columns={'kwh_per_acc': 'avg_kwh_per_acc'})\n",
    "denormalized_df['avg_kwh_per_acc'] = denormalized_df['avg_kwh_per_acc'].round(2)\n",
    "denormalized_df = denormalized_df.sort_values(['Area', 'year', 'month', 'dwelling_type'])\n",
    "\n",
    "# calculate average kwh_per_acc per dwelling type in each region, year and month\n",
    "\n",
    "# uncomment to format this column to 2dp to look like the output, but will turn into a object type\n",
    "# denormalized_df['avg_kwh_per_acc'] = denormalized_df['avg_kwh_per_acc'].apply(lambda x: '{:,.2f}'.format(x)) # source: https://stackoverflow.com/questions/57194853/how-to-read-this-lambda-x-fx06\n",
    "\n",
    "# confirm similarity to example output\n",
    "denormalized_df.head(20)\n",
    "\n",
    "# check types, object - string\n",
    "denormalized_df.info()"
   ]
  },
  {
   "cell_type": "code",
   "execution_count": 7,
   "metadata": {},
   "outputs": [
    {
     "name": "stdout",
     "output_type": "stream",
     "text": [
      "Number of records: 26925\n",
      "\n",
      "First 3 records:\n",
      "ElectricityRecord(region='North East Region', area='Ang Mo Kio', year=2010, month=1, dwelling_type='1-room / 2-room', avg_kwh_per_acc=144.9)\n",
      "ElectricityRecord(region='North East Region', area='Ang Mo Kio', year=2010, month=1, dwelling_type='Landed Properties', avg_kwh_per_acc=785.2)\n",
      "ElectricityRecord(region='North East Region', area='Ang Mo Kio', year=2010, month=1, dwelling_type='Private Apartments and Condominiums', avg_kwh_per_acc=445.0)\n"
     ]
    }
   ],
   "source": [
    "# Instructions:\n",
    "# The final dataset generated should be list of objects (a must to test your OOP concepts)\n",
    "records = [\n",
    "        ElectricityRecord(\n",
    "            region=row.Region,\n",
    "            area=row.Area,\n",
    "            year=row.year,\n",
    "            month=row.month,\n",
    "            dwelling_type=row.dwelling_type,\n",
    "            avg_kwh_per_acc=row.avg_kwh_per_acc\n",
    "        )\n",
    "        for row in denormalized_df.itertuples() # itertuples is faster than iterrows\n",
    "    ]\n",
    "\n",
    "# explore result\n",
    "print(f\"Number of records: {len(records)}\")\n",
    "print(\"\\nFirst 3 records:\")\n",
    "for record in records[:3]:\n",
    "    print(record)"
   ]
  },
  {
   "cell_type": "markdown",
   "metadata": {},
   "source": [
    "# Non-Pandas Approach"
   ]
  },
  {
   "cell_type": "markdown",
   "metadata": {},
   "source": [
    "Without using Pandas DataFrames, we can treat each row of data as a dictionary"
   ]
  },
  {
   "cell_type": "code",
   "execution_count": 8,
   "metadata": {},
   "outputs": [],
   "source": [
    "area_data = []\n",
    "with open('Area.txt', 'r') as file:\n",
    "    # skip the header row\n",
    "    next(file) \n",
    "    for line in file:\n",
    "        area_id, area, region = line.strip().split(';')\n",
    "        datapoint = {}\n",
    "        datapoint['area_id'] = int(area_id)\n",
    "        datapoint['area'] = area\n",
    "        datapoint['region'] = region\n",
    "        area_data.append(datapoint)\n",
    "        \n",
    "date_dim_data = []\n",
    "with open('DateDim.txt', 'r') as file: \n",
    "    # skip the header row\n",
    "    next(file)\n",
    "    for line in file:\n",
    "        date_id, year, month, quarter = line.strip().split(';')\n",
    "        datapoint = {}\n",
    "        datapoint['date_id'] = int(date_id)\n",
    "        datapoint['year'] = year\n",
    "        datapoint['month'] = month\n",
    "        datapoint['quarter'] = quarter\n",
    "        date_dim_data.append(datapoint)\n",
    "\n",
    "dwelling_data = []\n",
    "with open('Dwelling.txt', 'r') as file:\n",
    "    # skip the header row\n",
    "    next(file)\n",
    "    for line in file:\n",
    "        type_id, dwelling_type = line.strip().split(',')\n",
    "        datapoint = {}\n",
    "        datapoint['type_id'] = int(type_id)\n",
    "        datapoint['dwelling_type'] = dwelling_type\n",
    "        dwelling_data.append(datapoint)\n",
    "\n",
    "electricity_data = []\n",
    "with open('Electricity.txt', 'r') as file:\n",
    "    # skip the header row\n",
    "    next(file)\n",
    "    for line in file:\n",
    "        date_id, area_id, dwelling_type_id, kwh_per_acc = line.strip().split(';')\n",
    "        datapoint = {}\n",
    "        datapoint['date_id'] = int(date_id)\n",
    "        datapoint['area_id'] = int(area_id)\n",
    "        datapoint['type_id'] = int(dwelling_type_id)\n",
    "        datapoint['kwh_per_acc'] = float(kwh_per_acc)\n",
    "        electricity_data.append(datapoint)"
   ]
  },
  {
   "cell_type": "code",
   "execution_count": 9,
   "metadata": {},
   "outputs": [
    {
     "name": "stdout",
     "output_type": "stream",
     "text": [
      "[{'type_id': 1, 'dwelling_type': '1-room / 2-room', 'date_id': 54950, 'year': '2010', 'month': '1', 'quarter': '1', 'area_id': 1001, 'kwh_per_acc': 86.7, 'area': 'Bishan', 'region': 'Central Region'}, {'type_id': 1, 'dwelling_type': '1-room / 2-room', 'date_id': 54950, 'year': '2010', 'month': '1', 'quarter': '1', 'area_id': 1002, 'kwh_per_acc': 107.5, 'area': 'Sembawang', 'region': 'North Region'}, {'type_id': 1, 'dwelling_type': '1-room / 2-room', 'date_id': 54950, 'year': '2010', 'month': '1', 'quarter': '1', 'area_id': 1003, 'kwh_per_acc': 113.9, 'area': 'Yishun', 'region': 'North Region'}]\n"
     ]
    }
   ],
   "source": [
    "# merging data dictionaries\n",
    "# credits: https://stackoverflow.com/a/5946322\n",
    "\n",
    "merged_data = []\n",
    "\n",
    "for electricity_record in electricity_data:\n",
    "    for area in area_data:\n",
    "        if electricity_record['area_id'] == area['area_id']:\n",
    "            merged_record = {**electricity_record, **area}\n",
    "            merged_data.append(merged_record)\n",
    "\n",
    "date_dict = {record['date_id']: record for record in date_dim_data} # O(n)\n",
    "for i in range(len(merged_data)): # O(m)\n",
    "    date_id = merged_data[i]['date_id'] # O(1)\n",
    "    if date_id in date_dict:\n",
    "        merged_data[i] = {**date_dict[date_id], **merged_data[i]} \n",
    "\n",
    "\n",
    "dwelling_dict = {record['type_id']: record for record in dwelling_data}\n",
    "for i in range(len(merged_data)):\n",
    "    type_id = merged_data[i]['type_id']\n",
    "    if type_id in dwelling_dict:\n",
    "        merged_data[i] = {**dwelling_dict[type_id], **merged_data[i]}\n",
    "\n",
    "# explore result\n",
    "print(merged_data[:3])\n"
   ]
  },
  {
   "cell_type": "code",
   "execution_count": 10,
   "metadata": {},
   "outputs": [
    {
     "name": "stdout",
     "output_type": "stream",
     "text": [
      "[{'region': 'North East Region', 'area': 'Ang Mo Kio', 'year': '2010', 'month': '1', 'dwelling_type': '1-room / 2-room', 'avg_kwh_per_acc': 144.9}, {'region': 'North East Region', 'area': 'Ang Mo Kio', 'year': '2010', 'month': '1', 'dwelling_type': 'Landed Properties', 'avg_kwh_per_acc': 785.2}, {'region': 'North East Region', 'area': 'Ang Mo Kio', 'year': '2010', 'month': '1', 'dwelling_type': 'Private Apartments and Condominiums', 'avg_kwh_per_acc': 445.0}]\n"
     ]
    }
   ],
   "source": [
    "# calculate average\n",
    "from collections import defaultdict\n",
    "from statistics import mean\n",
    "\n",
    "# store grouped values\n",
    "grouped_data = defaultdict(list)\n",
    "\n",
    "# group the data\n",
    "for record in merged_data:\n",
    "    group_key = (\n",
    "        record['region'],\n",
    "        record['area'],\n",
    "        record['year'],\n",
    "        record['month'],\n",
    "        record['dwelling_type']\n",
    "    )\n",
    "    grouped_data[group_key].append(record['kwh_per_acc'])\n",
    "\n",
    "denormalized_data = [\n",
    "    {\n",
    "        'region': region,\n",
    "        'area': area,\n",
    "        'year': year,\n",
    "        'month': month,\n",
    "        'dwelling_type': dwelling_type,\n",
    "        'avg_kwh_per_acc': mean(values)\n",
    "    }\n",
    "    for (region, area, year, month, dwelling_type), values in grouped_data.items()\n",
    "]\n",
    "\n",
    "# sort the result\n",
    "denormalized_data.sort(key=lambda x: (\n",
    "    x['area'],\n",
    "    x['year'],\n",
    "    x['month'],\n",
    "    x['dwelling_type']\n",
    "))\n",
    "\n",
    "# explore result\n",
    "print(denormalized_data[:3])"
   ]
  },
  {
   "cell_type": "code",
   "execution_count": 11,
   "metadata": {},
   "outputs": [
    {
     "name": "stdout",
     "output_type": "stream",
     "text": [
      "Number of records: 26925\n",
      "\n",
      "First 3 records:\n",
      "ElectricityRecord(region='North East Region', area='Ang Mo Kio', year=2010, month=1, dwelling_type='1-room / 2-room', avg_kwh_per_acc=144.9)\n",
      "ElectricityRecord(region='North East Region', area='Ang Mo Kio', year=2010, month=1, dwelling_type='Landed Properties', avg_kwh_per_acc=785.2)\n",
      "ElectricityRecord(region='North East Region', area='Ang Mo Kio', year=2010, month=1, dwelling_type='Private Apartments and Condominiums', avg_kwh_per_acc=445.0)\n"
     ]
    }
   ],
   "source": [
    "# generate list of objects as per requirements\n",
    "final_records = [ElectricityRecord(record['region'], record['area'], record['year'], record['month'], record['dwelling_type'], record['avg_kwh_per_acc']) for record in denormalized_data]\n",
    "\n",
    "# explore result\n",
    "print(f\"Number of records: {len(final_records)}\")\n",
    "print(\"\\nFirst 3 records:\")\n",
    "for record in final_records[:3]:\n",
    "    print(record)"
   ]
  },
  {
   "cell_type": "markdown",
   "metadata": {},
   "source": [
    "# Miscelleanous "
   ]
  },
  {
   "cell_type": "code",
   "execution_count": 24,
   "metadata": {},
   "outputs": [
    {
     "name": "stdout",
     "output_type": "stream",
     "text": [
      "        1: Central Region        2: North Region          3: West Region           \n",
      "        4: North East Region     5: East Region           \n"
     ]
    }
   ],
   "source": [
    "unique_regions = {}\n",
    "index = 1\n",
    "\n",
    "for area in area_data:\n",
    "    if area['region'] not in unique_regions.values():\n",
    "        unique_regions[index] = area['region']\n",
    "        index += 1\n",
    "\n",
    "# to generate the choices in query.py\n",
    "items = []\n",
    "for key, val in unique_regions.items():\n",
    "    formatted_item = f\"{key}: {val}\"\n",
    "    padded_item = formatted_item.ljust(25)\n",
    "    items.append(padded_item)\n",
    "\n",
    "rows = []\n",
    "for i in range(0, len(items), 3):\n",
    "    row = items[i:i + 3]\n",
    "    rows.append(\"        \" + \"\".join(row))\n",
    "\n",
    "print(\"\\n\".join(rows))"
   ]
  },
  {
   "cell_type": "code",
   "execution_count": 18,
   "metadata": {},
   "outputs": [
    {
     "name": "stdout",
     "output_type": "stream",
     "text": [
      "1: 1-room / 2-room\n",
      "2: Private Apartments and Condominiums\n",
      "3: Landed Properties\n",
      "4: 5-room and Executive\n",
      "5: 3-room\n",
      "6: 4-room\n"
     ]
    }
   ],
   "source": [
    "unique_dwelling_type = {}\n",
    "\n",
    "for dwelling in dwelling_data:\n",
    "    if dwelling['dwelling_type'] not in unique_dwelling_type:\n",
    "        unique_dwelling_type[dwelling['type_id']] = dwelling['dwelling_type']\n",
    "\n",
    "for key, val in unique_dwelling_type.items():\n",
    "    print(f\"{key}: {val}\")"
   ]
  },
  {
   "cell_type": "code",
   "execution_count": null,
   "metadata": {},
   "outputs": [],
   "source": [
    "# group records by area over month\n",
    "area_groupings = {}\n",
    "for record in records:\n",
    "if record['area'] not in area_groupings:\n",
    "    area_groupings['area'] = {}\n",
    "area_records[record.area][record.month] = record.avg_kwh_per_acc\n",
    "\n",
    "for month in range(1, 13):\n",
    "monthly_usage_sum = 0\n",
    "for record in records:\n",
    "    if record['month'] == month:\n",
    "        monthly_usage_sum += record['avg_kwh_per_acc'] \n",
    "        # ...realized not necessary, because there is only one avg_kwh_per_acc per month, area and dwelling type anyway as a result of task 1, can direct assign on area_groupings"
   ]
  },
  {
   "cell_type": "code",
   "execution_count": 27,
   "metadata": {},
   "outputs": [
    {
     "name": "stdout",
     "output_type": "stream",
     "text": [
      "Found 0 matching records.\n"
     ]
    },
    {
     "data": {
      "text/plain": [
       "[]"
      ]
     },
     "execution_count": 27,
     "metadata": {},
     "output_type": "execute_result"
    }
   ],
   "source": [
    "# exploratory manual testing\n",
    "from query import find_matching_records\n",
    "\n",
    "find_matching_records(final_records, 2010, 'North East Region', '3-room')"
   ]
  },
  {
   "cell_type": "markdown",
   "metadata": {},
   "source": [
    "# Presentation"
   ]
  },
  {
   "cell_type": "markdown",
   "metadata": {},
   "source": [
    "**For task (i),** \n",
    "\n",
    "- **explain how you apply divide and conquer method to this problem, what are the algorithms you \n",
    "have proposed**\n",
    "\n",
    "I broke down the task of merging and denomalizing the datasets into 4 separate functions found in `complete.py.` The 4 functions are:\n",
    "    \n",
    "- `read-input` which reads the .txt files with the original data as Pandas DataFrames\n",
    "- `merge` which merges the 4 DataFrames over common columns\n",
    "- `transform` which filters the dataset to the relevant columns (denormalizes by removing id columns)\n",
    "- `make_output` which creates ElectricityRecord objects representing each row of data and returns them all in a list as per the task requirements\n",
    " \n",
    "\n",
    "- **illustrate how you perform Time complexity analysis.**\n",
    "\n",
    "The time complexity code is found in `timing.py`. The same 4 functions were coded in two different ways, one using Pandas and one without. Splitting up the functions this way allowed me to test and time each one separately.\n",
    "\n",
    "The most important timing metric is **merging**. It is much faster to merge using Pandas.\n",
    "\n",
    "- **discuss how the final selection of algorithm(s) is done**\n",
    "\n",
    "I picked the approach using Pandas DataFrames as my timing tests consistently showed it had faster results than the pure Python approach managing my own dictionaries and lists. Sometimes, it was up to 4x faster.\n",
    "\n",
    "- **demo the execution of final.py and show case the dataset required is generated.**\n",
    "\n",
    "Shown in the video, or you may run `python .\\query.py` in the command line to interact with the program.\n",
    "\n",
    "**For task (ii),**\n",
    "\n",
    "- **explain how you design the object and data structure used for this program**\n",
    "\n",
    "My ElectricityRecord class is located in `models.py` and its constructor takes the region, area, year, month, dwelling type and average kWh per acc for that time period and locale. I designed the class in this way to match the expected output as shown in the assignment instructions and to make it simple to filter for matching ElectricityRecords based on year, dwelling type and region in task (ii), because these properties can be accessed and checked with dot notation.\n",
    "\n",
    "- **demo how you perform the query with various filtering.**\n",
    "\n",
    "Shown in the video.\n",
    "\n",
    "- **illustrate the major input validation**\n",
    "\n",
    "Shown in the video, but some manual testings of edge and special cases are entering non-numeric input or input outside of the expected range.\n",
    "\n",
    "**Include your learning experience and journey. \n",
    "If you have used generative AI to assist in completing this assignment, you are required to include why \n",
    "is there a need of use and how have you improved after the use.**\n",
    "\n",
    "I used generative AI in two main aspects:\n",
    "1. To help me refactor my timing tests in `timing.py` to reuse it multiple times for each function and approach. \n",
    "2. To help me format the final output for task (ii), which was a large ASCII-like table.\n",
    "\n",
    "I first tried to do it on my own by refering to the timing tests for Binary Search in class, and some of the text formatting examples from Trimester 1. However, it was challenging because I kept running into errors with the formatting and was unsure of how to stucture the tests for optimal reusability. I could not properly visualize how to make the right formatting for the table and would have been lost without the AI's help.\n",
    "\n",
    "One interesting aspect of my learning journey is that when I wrote the `complete.py` file, I acidentally put in all the code for the pure Python approach when I intended to use the Pandas approach. I then wrote all of the code for task (ii) using this wrong version of `complete.py`. When I discovered my mistake, I was pleased that I didn't have to change much at all besides replacing `complete.py` with my Pandas code. This is because both codes return the same thing: a list of ElectricityRecords, so my query program in `query.py` is nicely decoupled and agnostic to the internal workings of both codes!\n",
    "\n",
    "One thing I think did well is modularizing my code using a divide-and-conquer approach to break it up into smaller functions that are responsible for separate things, like `merge` and `transform`. This allowed me to test different parts of my code easily and improved its readabilty.\n",
    "\n",
    "One thing I would improve is not hardcoding the size inputs in the test files, since I made the assumption that the data is static because it is historical from the past 10 years and will never change. I think an ideal solution would be more robust to indexing errors and different inputs."
   ]
  }
 ],
 "metadata": {
  "kernelspec": {
   "display_name": "Python 3",
   "language": "python",
   "name": "python3"
  },
  "language_info": {
   "codemirror_mode": {
    "name": "ipython",
    "version": 3
   },
   "file_extension": ".py",
   "mimetype": "text/x-python",
   "name": "python",
   "nbconvert_exporter": "python",
   "pygments_lexer": "ipython3",
   "version": "3.12.2"
  }
 },
 "nbformat": 4,
 "nbformat_minor": 2
}
